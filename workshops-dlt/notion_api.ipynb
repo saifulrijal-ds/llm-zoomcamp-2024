{
 "cells": [
  {
   "cell_type": "code",
   "execution_count": 1,
   "metadata": {},
   "outputs": [
    {
     "data": {
      "text/plain": [
       "True"
      ]
     },
     "execution_count": 1,
     "metadata": {},
     "output_type": "execute_result"
    }
   ],
   "source": [
    "from dotenv import load_dotenv\n",
    "\n",
    "load_dotenv()"
   ]
  },
  {
   "cell_type": "code",
   "execution_count": 8,
   "metadata": {},
   "outputs": [
    {
     "name": "stdout",
     "output_type": "stream",
     "text": [
      "Success!\n",
      "{'object': 'list', 'results': [{'object': 'page', 'id': 'c2db1e2c-75c2-4b56-8d73-1e882c753c87', 'created_time': '2024-07-05T22:22:00.000Z', 'last_edited_time': '2024-07-06T00:02:00.000Z', 'created_by': {'object': 'user', 'id': '3d70bd86-7c35-47cb-8ba7-4dd7ce404994'}, 'last_edited_by': {'object': 'user', 'id': '3d70bd86-7c35-47cb-8ba7-4dd7ce404994'}, 'cover': None, 'icon': None, 'parent': {'type': 'page_id', 'page_id': '669c2a1e-0404-4465-811c-8ca22977685d'}, 'archived': False, 'in_trash': False, 'properties': {'title': {'id': 'title', 'type': 'title', 'title': [{'type': 'text', 'text': {'content': 'Homework: Employee handbook', 'link': None}, 'annotations': {'bold': False, 'italic': False, 'strikethrough': False, 'underline': False, 'code': False, 'color': 'default'}, 'plain_text': 'Homework: Employee handbook', 'href': None}]}}, 'url': 'https://www.notion.so/Homework-Employee-handbook-c2db1e2c75c24b568d731e882c753c87', 'public_url': None}], 'next_cursor': None, 'has_more': False, 'type': 'page_or_database', 'page_or_database': {}, 'request_id': 'd1a35771-f8dc-447e-bdb7-dcc94f8cb927'}\n"
     ]
    }
   ],
   "source": [
    "import requests\n",
    "import os\n",
    "\n",
    "NOTION_API_KEY = os.getenv(\"SOURCES__REST_API__NOTION__API_KEY\")\n",
    "\n",
    "url = \"https://api.notion.com/v1/search\"\n",
    "\n",
    "headers = {\n",
    "    \"Authorization\": f\"Bearer {NOTION_API_KEY}\",\n",
    "    \"Content-Type\": \"application/json\",\n",
    "    \"Notion-Version\": \"2022-06-28\"\n",
    "}\n",
    "\n",
    "data = {\n",
    "    \"query\": \"homework\",\n",
    "    \"filter\": {\n",
    "        \"value\": \"page\",\n",
    "        \"property\": \"object\"\n",
    "    },\n",
    "    \"sort\": {\n",
    "        \"direction\": \"ascending\",\n",
    "        \"timestamp\": \"last_edited_time\"\n",
    "    }\n",
    "}\n",
    "\n",
    "response = requests.post(url, headers=headers, json=data)\n",
    "\n",
    "if response.status_code == 200:\n",
    "    print(\"Success!\")\n",
    "    print(response.json())\n",
    "else:\n",
    "    print(\"Error:\", response.status_code, response.text)"
   ]
  },
  {
   "cell_type": "code",
   "execution_count": 9,
   "metadata": {},
   "outputs": [
    {
     "data": {
      "text/plain": [
       "{'object': 'list',\n",
       " 'results': [{'object': 'page',\n",
       "   'id': 'c2db1e2c-75c2-4b56-8d73-1e882c753c87',\n",
       "   'created_time': '2024-07-05T22:22:00.000Z',\n",
       "   'last_edited_time': '2024-07-06T00:02:00.000Z',\n",
       "   'created_by': {'object': 'user',\n",
       "    'id': '3d70bd86-7c35-47cb-8ba7-4dd7ce404994'},\n",
       "   'last_edited_by': {'object': 'user',\n",
       "    'id': '3d70bd86-7c35-47cb-8ba7-4dd7ce404994'},\n",
       "   'cover': None,\n",
       "   'icon': None,\n",
       "   'parent': {'type': 'page_id',\n",
       "    'page_id': '669c2a1e-0404-4465-811c-8ca22977685d'},\n",
       "   'archived': False,\n",
       "   'in_trash': False,\n",
       "   'properties': {'title': {'id': 'title',\n",
       "     'type': 'title',\n",
       "     'title': [{'type': 'text',\n",
       "       'text': {'content': 'Homework: Employee handbook', 'link': None},\n",
       "       'annotations': {'bold': False,\n",
       "        'italic': False,\n",
       "        'strikethrough': False,\n",
       "        'underline': False,\n",
       "        'code': False,\n",
       "        'color': 'default'},\n",
       "       'plain_text': 'Homework: Employee handbook',\n",
       "       'href': None}]}},\n",
       "   'url': 'https://www.notion.so/Homework-Employee-handbook-c2db1e2c75c24b568d731e882c753c87',\n",
       "   'public_url': None}],\n",
       " 'next_cursor': None,\n",
       " 'has_more': False,\n",
       " 'type': 'page_or_database',\n",
       " 'page_or_database': {},\n",
       " 'request_id': 'd1a35771-f8dc-447e-bdb7-dcc94f8cb927'}"
      ]
     },
     "execution_count": 9,
     "metadata": {},
     "output_type": "execute_result"
    }
   ],
   "source": [
    "response.json()"
   ]
  },
  {
   "cell_type": "code",
   "execution_count": 10,
   "metadata": {},
   "outputs": [
    {
     "data": {
      "text/plain": [
       "1"
      ]
     },
     "execution_count": 10,
     "metadata": {},
     "output_type": "execute_result"
    }
   ],
   "source": [
    "len(response.json()['results'])"
   ]
  },
  {
   "cell_type": "code",
   "execution_count": 12,
   "metadata": {},
   "outputs": [
    {
     "data": {
      "text/plain": [
       "'c2db1e2c-75c2-4b56-8d73-1e882c753c87'"
      ]
     },
     "execution_count": 12,
     "metadata": {},
     "output_type": "execute_result"
    }
   ],
   "source": [
    "response.json()['results'][0]['id']"
   ]
  },
  {
   "cell_type": "code",
   "execution_count": 13,
   "metadata": {},
   "outputs": [
    {
     "data": {
      "text/plain": [
       "{'title': {'id': 'title',\n",
       "  'type': 'title',\n",
       "  'title': [{'type': 'text',\n",
       "    'text': {'content': 'Homework: Employee handbook', 'link': None},\n",
       "    'annotations': {'bold': False,\n",
       "     'italic': False,\n",
       "     'strikethrough': False,\n",
       "     'underline': False,\n",
       "     'code': False,\n",
       "     'color': 'default'},\n",
       "    'plain_text': 'Homework: Employee handbook',\n",
       "    'href': None}]}}"
      ]
     },
     "execution_count": 13,
     "metadata": {},
     "output_type": "execute_result"
    }
   ],
   "source": [
    "response.json()['results'][0]['properties']"
   ]
  },
  {
   "cell_type": "code",
   "execution_count": 16,
   "metadata": {},
   "outputs": [
    {
     "name": "stdout",
     "output_type": "stream",
     "text": [
      "Success: {'object': 'block', 'id': '9dd6d182-34e1-4dca-99dd-4fc6bfd1072a', 'parent': {'type': 'page_id', 'page_id': 'c2db1e2c-75c2-4b56-8d73-1e882c753c87'}, 'created_time': '2024-07-05T22:33:00.000Z', 'last_edited_time': '2024-07-05T22:33:00.000Z', 'created_by': {'object': 'user', 'id': '3d70bd86-7c35-47cb-8ba7-4dd7ce404994'}, 'last_edited_by': {'object': 'user', 'id': '3d70bd86-7c35-47cb-8ba7-4dd7ce404994'}, 'has_children': False, 'archived': False, 'in_trash': False, 'type': 'heading_2', 'heading_2': {'is_toggleable': False, 'color': 'default', 'text': [{'type': 'text', 'text': {'content': 'Employee training and development', 'link': None}, 'annotations': {'bold': False, 'italic': False, 'strikethrough': False, 'underline': False, 'code': False, 'color': 'default'}, 'plain_text': 'Employee training and development', 'href': None}]}}\n"
     ]
    }
   ],
   "source": [
    "block_id = \"c2db1e2c-75c2-4b56-8d73-1e882c753c87\"\n",
    "url = f\"https://api.notion.com/v1/blocks/{block_id}/children\"\n",
    "\n",
    "headers = {\n",
    "    \"Authorization\": f\"Bearer {NOTION_API_KEY}\",\n",
    "    \"Notion-Version\": \"2021-08-16\"\n",
    "}\n",
    "\n",
    "response = requests.get(url, headers=headers)\n",
    "\n",
    "if response.status_code == 200:\n",
    "    print(f\"Success: {response.json()['results'][0]}\")\n",
    "else:\n",
    "    print(f\"Error: {response.status_code} - {response.text}\")"
   ]
  },
  {
   "cell_type": "code",
   "execution_count": 18,
   "metadata": {},
   "outputs": [
    {
     "data": {
      "text/plain": [
       "34"
      ]
     },
     "execution_count": 18,
     "metadata": {},
     "output_type": "execute_result"
    }
   ],
   "source": [
    "len(response.json()['results'])"
   ]
  },
  {
   "cell_type": "code",
   "execution_count": null,
   "metadata": {},
   "outputs": [],
   "source": []
  }
 ],
 "metadata": {
  "kernelspec": {
   "display_name": "llm-zoomcamp-2024-7f9KXxPu",
   "language": "python",
   "name": "python3"
  },
  "language_info": {
   "codemirror_mode": {
    "name": "ipython",
    "version": 3
   },
   "file_extension": ".py",
   "mimetype": "text/x-python",
   "name": "python",
   "nbconvert_exporter": "python",
   "pygments_lexer": "ipython3",
   "version": "3.11.9"
  }
 },
 "nbformat": 4,
 "nbformat_minor": 2
}
